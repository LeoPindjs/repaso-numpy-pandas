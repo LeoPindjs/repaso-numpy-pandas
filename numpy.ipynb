{
 "cells": [
  {
   "cell_type": "code",
   "execution_count": null,
   "metadata": {},
   "outputs": [],
   "source": [
    "import numpy as np"
   ]
  },
  {
   "cell_type": "code",
   "execution_count": null,
   "metadata": {},
   "outputs": [],
   "source": [
    "data = range(1,11)\n",
    "a = np.array(data)\n",
    "# tipo del arreglo\n",
    "type(a).__name__\n",
    "# tamaño del arreglo\n",
    "a.size\n",
    "# dimensiones del arreglo\n",
    "a.ndim\n",
    "# tipos de datos que almacena el arreglo\n",
    "a.dtype"
   ]
  },
  {
   "cell_type": "code",
   "execution_count": null,
   "metadata": {},
   "outputs": [],
   "source": [
    "# Operaciones matemáticas en arreglos de numpy\n",
    "#suma \n",
    "a = np.arange(1,11)\n",
    "b = 10\n",
    "sumar = a + b\n",
    "print(f'{a}\\n{sumar}')"
   ]
  },
  {
   "cell_type": "code",
   "execution_count": null,
   "metadata": {},
   "outputs": [],
   "source": [
    "#resta\n",
    "a = np.arange(1,11)\n",
    "b = 2\n",
    "sumar = a - b\n",
    "print(f'{a}\\n{sumar}')"
   ]
  },
  {
   "cell_type": "code",
   "execution_count": null,
   "metadata": {},
   "outputs": [],
   "source": [
    "#multiplicaión\n",
    "a = np.arange(1,11)\n",
    "b = 2\n",
    "sumar = a * b\n",
    "print(f'{a}\\n{sumar}')"
   ]
  },
  {
   "cell_type": "code",
   "execution_count": null,
   "metadata": {},
   "outputs": [],
   "source": [
    "#sumando vectores\n",
    "a = np.arange(6,11)\n",
    "b = np.arange(1,6)\n",
    "\n",
    "suma = a + b\n",
    "suma\n"
   ]
  },
  {
   "cell_type": "code",
   "execution_count": null,
   "metadata": {},
   "outputs": [],
   "source": [
    "#generar el tipo de arreglos de forma explícita\n",
    "a = np.arange(1,11)\n",
    "a.dtype\n",
    "a = np.arange(1,11,dtype=int)\n",
    "a = np.arange(1,11,dtype=float)\n",
    "a.dtype\n",
    "\n",
    "b = np.array([0,1,2,3,4,5],dtype=str)\n",
    "b = np.array([0,1,2,3,4,5],dtype=bool)\n",
    "b.dtype\n",
    "\n"
   ]
  },
  {
   "cell_type": "code",
   "execution_count": null,
   "metadata": {},
   "outputs": [],
   "source": [
    "#creación de arreglos\n",
    "a = np.arange(0,101)\n",
    "b = np.arange(0,11,2)\n",
    "c = np.zeros(10,dtype=int)\n",
    "d = np.ones(10,dtype=int)\n",
    "# crea un vector de datos basura que luego pueden ser modificados\n",
    "x = np.empty(10,dtype=int)\n",
    "y = np.random.randint(10,21,100)\n",
    "y\n"
   ]
  },
  {
   "cell_type": "code",
   "execution_count": null,
   "metadata": {},
   "outputs": [],
   "source": [
    "#obtener y actualizar elementos de un arreglo\n",
    "a = np.random.randint(0,11,10)\n",
    "# obtengo el primer elemento del vector\n",
    "a[0]\n",
    "# obtengo el último elemento del vector\n",
    "a[-1]\n",
    "# modifico el primer elemento del vector\n",
    "a[0] = 1000\n",
    "# modifico el último elemento del vector\n",
    "a[-1] = 2000\n",
    "a\n"
   ]
  },
  {
   "cell_type": "code",
   "execution_count": null,
   "metadata": {},
   "outputs": [],
   "source": [
    "# creando subvectores\n",
    "vector = np.random.randint(1,20,50)\n",
    "vector\n",
    "# subvector de 5 a 9\n",
    "subvector = vector[5:10]\n",
    "# subvector de 0 a 9\n",
    "subvector = vector[:10]\n",
    "# subvector de 5 hasta el final\n",
    "subvector = vector[5:]\n",
    "# subvector de 5 hasta el final con paso de dos en dos\n",
    "subvector = vector[5::2]\n",
    "subvector\n",
    "# crear un vector con índices específicos\n",
    "subvector_1 = vector[[0,1,20]]\n",
    "subvector_1\n",
    "# otra forma de crear un vector con índices específicos\n",
    "data = [vector[0],vector[1],vector[20]]\n",
    "subvector_2 = np.array(data) \n",
    "print(\n",
    "    subvector_1,\n",
    "    subvector_2\n",
    ")\n",
    "\n",
    "\n"
   ]
  },
  {
   "cell_type": "code",
   "execution_count": null,
   "metadata": {},
   "outputs": [],
   "source": [
    "# vectorizando funciones\n",
    "a = np.random.randint(1,11,20)\n",
    "cuadrados = lambda x : x ** 2\n",
    "vector = np.vectorize(cuadrados)\n",
    "v1 = vector(a)\n",
    "v1\n",
    "#otra forma de hacerlo es:\n",
    "cuadrados = [x**2 for x in a]\n",
    "v2 = np.array(cuadrados)\n",
    "v2\n",
    "v1 == v2\n"
   ]
  },
  {
   "cell_type": "code",
   "execution_count": 105,
   "metadata": {},
   "outputs": [
    {
     "name": "stdout",
     "output_type": "stream",
     "text": [
      "False\n",
      "[0 1 2 3 4 5 6 7 8 9] [0 1 2 3 4 5 6 7 8 9]\n",
      "[0 1 2 3 4 5 6 7 8 9] [  0   1   2   3   4   5   6   7   8 100]\n"
     ]
    }
   ],
   "source": [
    "# creando copia de un vector\n",
    "v = np.arange(0,10)\n",
    "t = v.copy()\n",
    "print(id(v) == id(t))\n",
    "print(v,t)\n",
    "t[-1] = 100\n",
    "print(v,t)\n"
   ]
  },
  {
   "cell_type": "code",
   "execution_count": null,
   "metadata": {},
   "outputs": [],
   "source": []
  }
 ],
 "metadata": {
  "kernelspec": {
   "display_name": "analisis_de_datos",
   "language": "python",
   "name": "python3"
  },
  "language_info": {
   "codemirror_mode": {
    "name": "ipython",
    "version": 3
   },
   "file_extension": ".py",
   "mimetype": "text/x-python",
   "name": "python",
   "nbconvert_exporter": "python",
   "pygments_lexer": "ipython3",
   "version": "3.11.5"
  },
  "orig_nbformat": 4
 },
 "nbformat": 4,
 "nbformat_minor": 2
}
